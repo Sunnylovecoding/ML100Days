{
 "cells": [
  {
   "cell_type": "markdown",
   "metadata": {
    "id": "5aWZnhxBD2p2"
   },
   "source": [
    "作業目標:<br>\n",
    "在array中，可以靈活應用索引幫助資料擷取<br>\n",
    "作業重點:<br>\n",
    "陣列的索引、切片、以及屬性，皆需要注意使用方式<br>\n",
    "陣列之中索引式由0開始請同學注意"
   ]
  },
  {
   "cell_type": "code",
   "execution_count": 100,
   "metadata": {
    "id": "NfVTcwauD3rg"
   },
   "outputs": [],
   "source": [
    "import numpy as np"
   ]
  },
  {
   "cell_type": "markdown",
   "metadata": {},
   "source": [
    "#### 1.生成一個等差數列，首數為0，尾數為20，公差為1的數列。"
   ]
  },
  {
   "cell_type": "code",
   "execution_count": 6,
   "metadata": {
    "id": "QrOaxfmeEpvo",
    "scrolled": true
   },
   "outputs": [
    {
     "name": "stdout",
     "output_type": "stream",
     "text": [
      "Ans: [ 0  1  2  3  4  5  6  7  8  9 10 11 12 13 14 15 16 17 18 19 20]\n"
     ]
    }
   ],
   "source": [
    "a = np.arange(0, 21, 1)\n",
    "print(\"Ans:\",a)"
   ]
  },
  {
   "cell_type": "markdown",
   "metadata": {},
   "source": [
    "#### 2.呈上題，將以上數列取出偶數。"
   ]
  },
  {
   "cell_type": "code",
   "execution_count": 4,
   "metadata": {
    "id": "5FFeFSvoEtRP"
   },
   "outputs": [
    {
     "name": "stdout",
     "output_type": "stream",
     "text": [
      "Ans: [ 0  2  4  6  8 10 12 14 16 18 20]\n"
     ]
    }
   ],
   "source": [
    "print(\"Ans:\",a[::2])"
   ]
  },
  {
   "cell_type": "markdown",
   "metadata": {},
   "source": [
    "#### 3.呈1題，將數列取出3的倍數。"
   ]
  },
  {
   "cell_type": "code",
   "execution_count": 5,
   "metadata": {
    "id": "7-HcNGFsFD-_"
   },
   "outputs": [
    {
     "name": "stdout",
     "output_type": "stream",
     "text": [
      "Ans: [ 0  3  6  9 12 15 18]\n"
     ]
    }
   ],
   "source": [
    "print(\"Ans:\",a[::3])"
   ]
  },
  {
   "cell_type": "markdown",
   "metadata": {
    "id": "6_6Emob-FHn3"
   },
   "source": [
    "#### 4.[簡答題]請問下列兩種將 Array 轉換成 List 的方式有何不同？<br>\n",
    "`\n",
    "print('list(a): ', list(a))\n",
    "print('tolist(): ', a.tolist())\n",
    "`"
   ]
  },
  {
   "cell_type": "markdown",
   "metadata": {},
   "source": [
    "Ans: 使用 `list(ndarray)` 只會將最上層矩陣轉為 List，但使用 `ndarray.tolist() `的話，可以將多層矩陣轉為 List。"
   ]
  },
  {
   "cell_type": "markdown",
   "metadata": {},
   "source": [
    "#### 5.請試著在程式中印出以下三個 NdArray 的屬性並且解釋結果？（屬性：ndim、shape、size、dtype、itemsize、length、type）<br>\n",
    "`\n",
    "a = np.random.randint(10, size=6) \n",
    "b = np.random.randint(10, size=(3,4)) \n",
    "c = np.random.randint(10, size=(2,3,2))\n",
    "`"
   ]
  },
  {
   "cell_type": "code",
   "execution_count": 101,
   "metadata": {},
   "outputs": [
    {
     "name": "stdout",
     "output_type": "stream",
     "text": [
      "陣列維度: 1 \n",
      "陣列形狀: (6,) \n",
      "陣列元素的數目: 6 \n",
      "陣列元素的資料型態: int32 \n",
      "各元素所占記憶體大小: 4 \n",
      "陣列長度(陣列的最高維度): 6 \n",
      "資料型態: <class 'numpy.ndarray'>\n"
     ]
    }
   ],
   "source": [
    "a = np.random.randint(10, size=6)\n",
    "print(\"陣列維度:\", a.ndim,\n",
    "     \"\\n陣列形狀:\", a.shape,\n",
    "     \"\\n陣列元素的數目:\", a.size,\n",
    "     \"\\n陣列元素的資料型態:\", a.dtype,\n",
    "     \"\\n各元素所占記憶體大小:\", a.itemsize,\n",
    "     \"\\n陣列長度(陣列的最高維度):\", len(a),\n",
    "     \"\\n資料型態:\", type(a))"
   ]
  },
  {
   "cell_type": "code",
   "execution_count": 102,
   "metadata": {},
   "outputs": [
    {
     "name": "stdout",
     "output_type": "stream",
     "text": [
      "陣列維度: 2 \n",
      "陣列形狀: (3, 4) \n",
      "陣列元素的數目: 12 \n",
      "陣列元素的資料型態: int32 \n",
      "各元素所占記憶體大小: 4 \n",
      "陣列長度(陣列的最高維度): 3 \n",
      "資料型態: <class 'numpy.ndarray'>\n"
     ]
    }
   ],
   "source": [
    "b = np.random.randint(10, size=(3,4)) \n",
    "print(\"陣列維度:\", b.ndim,\n",
    "     \"\\n陣列形狀:\", b.shape,\n",
    "     \"\\n陣列元素的數目:\", b.size,\n",
    "     \"\\n陣列元素的資料型態:\", b.dtype,\n",
    "     \"\\n各元素所占記憶體大小:\", b.itemsize,\n",
    "     \"\\n陣列長度(陣列的最高維度):\", len(b),\n",
    "     \"\\n資料型態:\", type(b))"
   ]
  },
  {
   "cell_type": "code",
   "execution_count": 103,
   "metadata": {},
   "outputs": [
    {
     "name": "stdout",
     "output_type": "stream",
     "text": [
      "陣列維度: 3 \n",
      "陣列形狀: (2, 3, 2) \n",
      "陣列元素的數目: 12 \n",
      "陣列元素的資料型態: int32 \n",
      "各元素所占記憶體大小: 4 \n",
      "陣列長度(陣列的最高維度): 2 \n",
      "資料型態: <class 'numpy.ndarray'>\n"
     ]
    }
   ],
   "source": [
    "c = np.random.randint(10, size=(2,3,2))\n",
    "print(\"陣列維度:\", c.ndim,\n",
    "     \"\\n陣列形狀:\", c.shape,\n",
    "     \"\\n陣列元素的數目:\", c.size,\n",
    "     \"\\n陣列元素的資料型態:\", c.dtype,\n",
    "     \"\\n各元素所占記憶體大小:\", c.itemsize,\n",
    "     \"\\n陣列長度(陣列的最高維度):\", len(c),\n",
    "     \"\\n資料型態:\", type(c))"
   ]
  },
  {
   "cell_type": "markdown",
   "metadata": {},
   "source": [
    "#### 6. 如何利用 list(...) 實現 a.tolist() 的效果？試著用程式實作。"
   ]
  },
  {
   "cell_type": "code",
   "execution_count": 113,
   "metadata": {},
   "outputs": [],
   "source": [
    "def mytolist(array):\n",
    "    newlist = []\n",
    "    if array.ndim == 3:\n",
    "        for x in range(0,array.shape[0]):\n",
    "            for y in range(0,array.shape[1]):\n",
    "                newlist.append(list(c[x][y]))\n",
    "        return newlist\n",
    "    if array.ndim == 2:\n",
    "        for x in range(0,array.shape[0]):\n",
    "            newlist.append(list(array[x]))\n",
    "        return newlist\n",
    "    else:\n",
    "        return list(array)"
   ]
  },
  {
   "cell_type": "code",
   "execution_count": 115,
   "metadata": {},
   "outputs": [
    {
     "name": "stdout",
     "output_type": "stream",
     "text": [
      "[1, 4, 1, 7, 3, 3]\n",
      "[[7, 7, 6, 3], [4, 4, 1, 1], [1, 8, 3, 9]]\n",
      "[[7, 0], [6, 5], [3, 0], [8, 3], [7, 8], [9, 5]]\n"
     ]
    },
    {
     "data": {
      "text/plain": [
       "[[[7, 0], [6, 5], [3, 0]], [[8, 3], [7, 8], [9, 5]]]"
      ]
     },
     "execution_count": 115,
     "metadata": {},
     "output_type": "execute_result"
    }
   ],
   "source": [
    "print(mytolist(a))\n",
    "print(mytolist(b))\n",
    "print(mytolist(c))\n",
    "c.tolist()"
   ]
  }
 ],
 "metadata": {
  "colab": {
   "collapsed_sections": [],
   "name": "作業題目.ipynb",
   "provenance": []
  },
  "kernelspec": {
   "display_name": "Python 3",
   "language": "python",
   "name": "python3"
  },
  "language_info": {
   "codemirror_mode": {
    "name": "ipython",
    "version": 3
   },
   "file_extension": ".py",
   "mimetype": "text/x-python",
   "name": "python",
   "nbconvert_exporter": "python",
   "pygments_lexer": "ipython3",
   "version": "3.8.5"
  }
 },
 "nbformat": 4,
 "nbformat_minor": 1
}
