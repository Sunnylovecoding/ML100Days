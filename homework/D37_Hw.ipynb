{
 "cells": [
  {
   "cell_type": "markdown",
   "metadata": {},
   "source": [
    "## 作業:\n",
    "今天課程中以一個案例，說明資料分析的流程與探索性分析，是否對於課程中一開始的問題，更有想法了?!  <br>  \n",
    "Q1: 哪一個問題不適合用資料科學解決?    <br>  \n",
    "Q2: 以你的角度來分析，為什麼這樣的問題，較不適合用資料來解決?    \n",
    "將答案寫在論壇中，大家一起互相討論激盪。   \n",
    "![](作業圖檔.PNG)"
   ]
  },
  {
   "cell_type": "markdown",
   "metadata": {},
   "source": [
    "Ans:\n",
    "1. 挑選 Mr./Ms. Right\n",
    "2. 因為這是一個很主觀的問題，而且我認為這不需要數據來支持，雖然有很多變數可以去做選擇，像是外觀、身高、體重等...，但就算你找到了符合你要求的人，更重要的是還需要對方的意見，因此我認為這非常不適合用資料解決。"
   ]
  }
 ],
 "metadata": {
  "colab": {
   "name": "Day33.YOLO 細節理解 - 網路輸出的後處理_HW.ipynb",
   "provenance": []
  },
  "kernelspec": {
   "display_name": "Python 3",
   "language": "python",
   "name": "python3"
  },
  "language_info": {
   "codemirror_mode": {
    "name": "ipython",
    "version": 3
   },
   "file_extension": ".py",
   "mimetype": "text/x-python",
   "name": "python",
   "nbconvert_exporter": "python",
   "pygments_lexer": "ipython3",
   "version": "3.8.5"
  }
 },
 "nbformat": 4,
 "nbformat_minor": 1
}
