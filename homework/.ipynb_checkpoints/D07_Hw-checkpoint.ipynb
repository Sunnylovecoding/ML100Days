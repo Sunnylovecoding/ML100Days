{
 "cells": [
  {
   "cell_type": "markdown",
   "metadata": {
    "id": "g7_Zhb9Bif-K"
   },
   "source": [
    "## 舊作業"
   ]
  },
  {
   "cell_type": "code",
   "execution_count": 1,
   "metadata": {
    "id": "YakNatIPj3CW"
   },
   "outputs": [],
   "source": [
    "import numpy as np\n",
    "array1 = np.array([[10, 8], [3, 5]])"
   ]
  },
  {
   "cell_type": "markdown",
   "metadata": {},
   "source": [
    "### 1. 運用上列array計算反矩陣，乘上原矩陣，並觀察是否為單位矩陣?"
   ]
  },
  {
   "cell_type": "code",
   "execution_count": 4,
   "metadata": {
    "id": "QT4ntMV1kR1c"
   },
   "outputs": [
    {
     "data": {
      "text/plain": [
       "(array([[ 0.19230769, -0.30769231],\n",
       "        [-0.11538462,  0.38461538]]),\n",
       " array([[1., 0.],\n",
       "        [0., 1.]]))"
      ]
     },
     "execution_count": 4,
     "metadata": {},
     "output_type": "execute_result"
    }
   ],
   "source": [
    "array1 = np.array([[10, 8], [3, 5]])\n",
    "inv_array1 = np.linalg.inv(array1)\n",
    "\n",
    "inv_array1, array1 @ inv_array1"
   ]
  },
  {
   "cell_type": "markdown",
   "metadata": {},
   "source": [
    "Ans: 相乘後結果為單位矩陣"
   ]
  },
  {
   "cell_type": "markdown",
   "metadata": {},
   "source": [
    "### 2. 運用上列array計算特徵值、特徵向量?"
   ]
  },
  {
   "cell_type": "code",
   "execution_count": 8,
   "metadata": {
    "id": "9f7cVxwwk-y9"
   },
   "outputs": [
    {
     "name": "stdout",
     "output_type": "stream",
     "text": [
      "array1的特徵值為 [13.  2.] \n",
      "array1的特徵向量為\n",
      " [[ 0.93632918 -0.70710678]\n",
      " [ 0.35112344  0.70710678]]\n"
     ]
    }
   ],
   "source": [
    "w, v = np.linalg.eig(array1)\n",
    "print(\"array1的特徵值為\", w, \"\\narray1的特徵向量為\\n\", v)"
   ]
  },
  {
   "cell_type": "markdown",
   "metadata": {
    "id": "OHSs5etxnL8D"
   },
   "source": [
    "### 3. 運用上列array計算SVD?"
   ]
  },
  {
   "cell_type": "code",
   "execution_count": 19,
   "metadata": {
    "id": "5BaVZFRvpXZo"
   },
   "outputs": [
    {
     "name": "stdout",
     "output_type": "stream",
     "text": [
      "u = [[-0.91663818 -0.39971796]\n",
      " [-0.39971796  0.91663818]] \n",
      "s = [13.94721714  1.86417116] \n",
      "vh = [[-0.74319741 -0.6690722 ]\n",
      " [-0.6690722   0.74319741]]\n"
     ]
    }
   ],
   "source": [
    "u, s ,vh = np.linalg.svd(array1)\n",
    "print(\"u =\", u, \"\\ns =\", s, \"\\nvh =\", vh)"
   ]
  },
  {
   "cell_type": "markdown",
   "metadata": {},
   "source": [
    "## 新作業"
   ]
  },
  {
   "cell_type": "markdown",
   "metadata": {},
   "source": [
    "### 1. 請比較對一個 1000 x 100 x 100 的陣列，使用不同方法對每一個元素 +1 的時間比較。"
   ]
  },
  {
   "cell_type": "code",
   "execution_count": 1,
   "metadata": {},
   "outputs": [],
   "source": [
    "import numpy as np\n",
    "np.random.seed(7)\n",
    "Z = np.random.randint(0, 10, 1000000).reshape(100, 100, 100)"
   ]
  },
  {
   "cell_type": "code",
   "execution_count": 15,
   "metadata": {},
   "outputs": [
    {
     "name": "stdout",
     "output_type": "stream",
     "text": [
      "117 ns ± 15.8 ns per loop (mean ± std. dev. of 7 runs, 10 loops each)\n"
     ]
    },
    {
     "data": {
      "text/plain": [
       "array([[[ 5, 10,  7, ...,  6,  5,  5],\n",
       "        [10, 10,  1, ...,  5,  1,  8],\n",
       "        [ 3,  1,  4, ...,  1,  2,  2],\n",
       "        ...,\n",
       "        [10,  8,  9, ..., 10,  5,  1],\n",
       "        [10,  6,  9, ...,  7, 10,  1],\n",
       "        [ 7,  3,  7, ...,  4,  6,  7]],\n",
       "\n",
       "       [[ 3,  3,  3, ...,  7,  9,  6],\n",
       "        [ 3,  7, 10, ...,  2,  8,  4],\n",
       "        [10,  1,  2, ...,  6,  4, 10],\n",
       "        ...,\n",
       "        [ 9, 10,  8, ...,  4, 10, 10],\n",
       "        [ 8,  9,  8, ...,  8,  7, 10],\n",
       "        [10,  2,  1, ...,  2,  3,  6]],\n",
       "\n",
       "       [[ 6,  6,  7, ...,  2,  1,  1],\n",
       "        [ 4,  5,  8, ...,  1,  3,  3],\n",
       "        [ 8,  7,  5, ...,  9,  9,  8],\n",
       "        ...,\n",
       "        [ 1,  8,  6, ...,  2,  7,  8],\n",
       "        [ 7,  7,  5, ..., 10,  2,  8],\n",
       "        [ 2,  5,  3, ...,  2,  9,  4]],\n",
       "\n",
       "       ...,\n",
       "\n",
       "       [[ 9,  7,  6, ...,  7,  4,  2],\n",
       "        [ 1,  8,  1, ...,  8,  6,  8],\n",
       "        [ 1,  1,  2, ...,  6, 10,  1],\n",
       "        ...,\n",
       "        [ 7,  7,  8, ...,  8,  1,  3],\n",
       "        [10,  2,  2, ...,  4, 10,  9],\n",
       "        [ 1,  8,  5, ...,  8,  2,  4]],\n",
       "\n",
       "       [[ 9,  2,  9, ...,  7,  5,  3],\n",
       "        [ 1,  4,  6, ..., 10, 10,  5],\n",
       "        [ 6,  6,  2, ...,  5,  1,  7],\n",
       "        ...,\n",
       "        [10,  6,  8, ...,  2,  1,  7],\n",
       "        [ 1,  3,  3, ...,  7,  9, 10],\n",
       "        [10,  4,  8, ...,  5,  6,  3]],\n",
       "\n",
       "       [[ 6,  6, 10, ...,  5,  1,  6],\n",
       "        [ 1,  6,  4, ...,  4,  7,  4],\n",
       "        [ 3, 10,  5, ..., 10,  4,  7],\n",
       "        ...,\n",
       "        [ 6,  8,  9, ...,  6,  7,  2],\n",
       "        [ 4,  1,  9, ...,  2,  6,  3],\n",
       "        [ 3,  7,  4, ..., 10, 10, 10]]])"
      ]
     },
     "execution_count": 15,
     "metadata": {},
     "output_type": "execute_result"
    }
   ],
   "source": [
    "%timeit -n 10 a = 2\n",
    "\n",
    "Z+1"
   ]
  },
  {
   "cell_type": "code",
   "execution_count": 11,
   "metadata": {},
   "outputs": [
    {
     "name": "stdout",
     "output_type": "stream",
     "text": [
      "77.1 ns ± 10.3 ns per loop (mean ± std. dev. of 7 runs, 10 loops each)\n",
      "[[[ 5 10  7 ...  6  5  5]\n",
      "  [10 10  1 ...  5  1  8]\n",
      "  [ 3  1  4 ...  1  2  2]\n",
      "  ...\n",
      "  [10  8  9 ... 10  5  1]\n",
      "  [10  6  9 ...  7 10  1]\n",
      "  [ 7  3  7 ...  4  6  7]]\n",
      "\n",
      " [[ 3  3  3 ...  7  9  6]\n",
      "  [ 3  7 10 ...  2  8  4]\n",
      "  [10  1  2 ...  6  4 10]\n",
      "  ...\n",
      "  [ 9 10  8 ...  4 10 10]\n",
      "  [ 8  9  8 ...  8  7 10]\n",
      "  [10  2  1 ...  2  3  6]]\n",
      "\n",
      " [[ 6  6  7 ...  2  1  1]\n",
      "  [ 4  5  8 ...  1  3  3]\n",
      "  [ 8  7  5 ...  9  9  8]\n",
      "  ...\n",
      "  [ 1  8  6 ...  2  7  8]\n",
      "  [ 7  7  5 ... 10  2  8]\n",
      "  [ 2  5  3 ...  2  9  4]]\n",
      "\n",
      " ...\n",
      "\n",
      " [[ 9  7  6 ...  7  4  2]\n",
      "  [ 1  8  1 ...  8  6  8]\n",
      "  [ 1  1  2 ...  6 10  1]\n",
      "  ...\n",
      "  [ 7  7  8 ...  8  1  3]\n",
      "  [10  2  2 ...  4 10  9]\n",
      "  [ 1  8  5 ...  8  2  4]]\n",
      "\n",
      " [[ 9  2  9 ...  7  5  3]\n",
      "  [ 1  4  6 ... 10 10  5]\n",
      "  [ 6  6  2 ...  5  1  7]\n",
      "  ...\n",
      "  [10  6  8 ...  2  1  7]\n",
      "  [ 1  3  3 ...  7  9 10]\n",
      "  [10  4  8 ...  5  6  3]]\n",
      "\n",
      " [[ 6  6 10 ...  5  1  6]\n",
      "  [ 1  6  4 ...  4  7  4]\n",
      "  [ 3 10  5 ... 10  4  7]\n",
      "  ...\n",
      "  [ 6  8  9 ...  6  7  2]\n",
      "  [ 4  1  9 ...  2  6  3]\n",
      "  [ 3  7  4 ... 10 10 10]]]\n"
     ]
    }
   ],
   "source": [
    "%timeit -n 10 a = 2\n",
    "\n",
    "Z_flat = []\n",
    "for i in Z.flatten():\n",
    "    Z_flat.append(i+1)\n",
    "Z1 = np.array(Z_flat).reshape(100, 100, 100)\n",
    "print(Z1)"
   ]
  },
  {
   "cell_type": "code",
   "execution_count": 14,
   "metadata": {},
   "outputs": [
    {
     "name": "stdout",
     "output_type": "stream",
     "text": [
      "44.3 ns ± 10.5 ns per loop (mean ± std. dev. of 7 runs, 10 loops each)\n",
      "[[[ 5 10  7 ...  6  5  5]\n",
      "  [10 10  1 ...  5  1  8]\n",
      "  [ 3  1  4 ...  1  2  2]\n",
      "  ...\n",
      "  [10  8  9 ... 10  5  1]\n",
      "  [10  6  9 ...  7 10  1]\n",
      "  [ 7  3  7 ...  4  6  7]]\n",
      "\n",
      " [[ 3  3  3 ...  7  9  6]\n",
      "  [ 3  7 10 ...  2  8  4]\n",
      "  [10  1  2 ...  6  4 10]\n",
      "  ...\n",
      "  [ 9 10  8 ...  4 10 10]\n",
      "  [ 8  9  8 ...  8  7 10]\n",
      "  [10  2  1 ...  2  3  6]]\n",
      "\n",
      " [[ 6  6  7 ...  2  1  1]\n",
      "  [ 4  5  8 ...  1  3  3]\n",
      "  [ 8  7  5 ...  9  9  8]\n",
      "  ...\n",
      "  [ 1  8  6 ...  2  7  8]\n",
      "  [ 7  7  5 ... 10  2  8]\n",
      "  [ 2  5  3 ...  2  9  4]]\n",
      "\n",
      " ...\n",
      "\n",
      " [[ 9  7  6 ...  7  4  2]\n",
      "  [ 1  8  1 ...  8  6  8]\n",
      "  [ 1  1  2 ...  6 10  1]\n",
      "  ...\n",
      "  [ 7  7  8 ...  8  1  3]\n",
      "  [10  2  2 ...  4 10  9]\n",
      "  [ 1  8  5 ...  8  2  4]]\n",
      "\n",
      " [[ 9  2  9 ...  7  5  3]\n",
      "  [ 1  4  6 ... 10 10  5]\n",
      "  [ 6  6  2 ...  5  1  7]\n",
      "  ...\n",
      "  [10  6  8 ...  2  1  7]\n",
      "  [ 1  3  3 ...  7  9 10]\n",
      "  [10  4  8 ...  5  6  3]]\n",
      "\n",
      " [[ 6  6 10 ...  5  1  6]\n",
      "  [ 1  6  4 ...  4  7  4]\n",
      "  [ 3 10  5 ... 10  4  7]\n",
      "  ...\n",
      "  [ 6  8  9 ...  6  7  2]\n",
      "  [ 4  1  9 ...  2  6  3]\n",
      "  [ 3  7  4 ... 10 10 10]]]\n"
     ]
    }
   ],
   "source": [
    "%timeit -n 10 a = 2\n",
    "\n",
    "Z2 = np.array([i+1 for i in Z.flatten()]).reshape(100, 100, 100)\n",
    "print(Z2)"
   ]
  },
  {
   "cell_type": "markdown",
   "metadata": {},
   "source": [
    "### 2. 如何從一個陣列中，找出出現頻率最高的數值與位置？"
   ]
  },
  {
   "cell_type": "code",
   "execution_count": 16,
   "metadata": {},
   "outputs": [
    {
     "name": "stdout",
     "output_type": "stream",
     "text": [
      "[4 9 6 3 3 7 7 9 7 8 9 8 7 6 4 0 7 0 7 6 3 5 8 8 7 5 0 0 2 8 9 6 4 9 7 3 3\n",
      " 8 3 0 1 0 0 6 7 7 9 3 0 7]\n"
     ]
    }
   ],
   "source": [
    "np.random.seed(7)\n",
    "Z = np.random.randint(0,10,50)\n",
    "print(Z)"
   ]
  },
  {
   "cell_type": "code",
   "execution_count": 71,
   "metadata": {},
   "outputs": [
    {
     "name": "stdout",
     "output_type": "stream",
     "text": [
      "{0: 8, 1: 1, 2: 1, 3: 7, 4: 3, 5: 2, 6: 5, 7: 11, 8: 6, 9: 6}\n"
     ]
    },
    {
     "data": {
      "text/plain": [
       "7"
      ]
     },
     "execution_count": 71,
     "metadata": {},
     "output_type": "execute_result"
    }
   ],
   "source": [
    "Zmode = {i:len(Z[Z==i]) for i in np.unique(Z)}\n",
    "print(Zmode)\n",
    "max(Zmode, key=Zmode.get)"
   ]
  },
  {
   "cell_type": "markdown",
   "metadata": {},
   "source": [
    "### 3. 如何利用 list(...) 實現 a.tolist() 的效果？試著用程式實作。"
   ]
  },
  {
   "cell_type": "code",
   "execution_count": 74,
   "metadata": {},
   "outputs": [
    {
     "name": "stdout",
     "output_type": "stream",
     "text": [
      "[4, 9, 6, 3, 3, 7]\n",
      "[4, 9, 6, 3, 3, 7]\n",
      "[[7, 9, 7, 8], [9, 8, 7, 6], [4, 0, 7, 0]]\n",
      "[array([7, 9, 7, 8]), array([9, 8, 7, 6]), array([4, 0, 7, 0])]\n",
      "[[[7, 6], [3, 5], [8, 8]], [[7, 5], [0, 0], [2, 8]]]\n",
      "[array([[7, 6],\n",
      "       [3, 5],\n",
      "       [8, 8]]), array([[7, 5],\n",
      "       [0, 0],\n",
      "       [2, 8]])]\n"
     ]
    }
   ],
   "source": [
    "np.random.seed(7)\n",
    "a = np.random.randint(10, size=6) \n",
    "\n",
    "print(a.tolist())\n",
    "print(list(a))\n",
    "\n",
    "\n",
    "b = np.random.randint(10, size=(3,4)) \n",
    "\n",
    "print(b.tolist())\n",
    "print(list(b))\n",
    "\n",
    "\n",
    "c = np.random.randint(10, size=(2,3,2)) \n",
    "\n",
    "print(c.tolist())\n",
    "print(list(c))\n"
   ]
  },
  {
   "cell_type": "code",
   "execution_count": 80,
   "metadata": {},
   "outputs": [
    {
     "data": {
      "text/plain": [
       "[7, 6, 3, 5, 8, 8, 7, 5, 0, 0, 2, 8]"
      ]
     },
     "execution_count": 80,
     "metadata": {},
     "output_type": "execute_result"
    }
   ],
   "source": [
    "def mytolist(array):\n",
    "    return list([i for i in array.flatten()])"
   ]
  }
 ],
 "metadata": {
  "colab": {
   "collapsed_sections": [],
   "name": "作業Hong題目.ipynb",
   "provenance": []
  },
  "kernelspec": {
   "display_name": "Python 3",
   "language": "python",
   "name": "python3"
  },
  "language_info": {
   "codemirror_mode": {
    "name": "ipython",
    "version": 3
   },
   "file_extension": ".py",
   "mimetype": "text/x-python",
   "name": "python",
   "nbconvert_exporter": "python",
   "pygments_lexer": "ipython3",
   "version": "3.8.5"
  }
 },
 "nbformat": 4,
 "nbformat_minor": 1
}
