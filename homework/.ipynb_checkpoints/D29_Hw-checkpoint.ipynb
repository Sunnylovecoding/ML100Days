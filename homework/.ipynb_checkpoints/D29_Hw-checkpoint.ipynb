{
 "cells": [
  {
   "cell_type": "markdown",
   "metadata": {
    "id": "H-z4L8J371GO"
   },
   "source": [
    "## 作業:\n",
    "今天學到不同統計量之間特性，試著分析男生女生身高資料，試著回答下面的問題:  \n",
    " \n",
    "上述問題透過  python 語法進行運算，\n",
    "並將上述答案填寫在 \n",
    "[google 表單](https://docs.google.com/forms/d/e/1FAIpQLSdDzwpeJl8YLPwZaW8pBZvtuXY9kIbbZLqxcXyzFaoraV5JEA/viewform)"
   ]
  },
  {
   "cell_type": "code",
   "execution_count": 1,
   "metadata": {
    "id": "yz28_IgkYdBW"
   },
   "outputs": [],
   "source": [
    "# library\n",
    "import matplotlib.pyplot as plt\n",
    "import numpy as np\n",
    "import pandas as pd\n",
    "from scipy import stats\n",
    "import math\n",
    "import statistics\n",
    "import seaborn as sns"
   ]
  },
  {
   "cell_type": "code",
   "execution_count": 10,
   "metadata": {
    "id": "3NtzuWtt71GU",
    "outputId": "be21c4eb-a6c2-4674-aadd-d378bafc0428"
   },
   "outputs": [
    {
     "name": "stdout",
     "output_type": "stream",
     "text": [
      "0     164\n",
      "1     175\n",
      "2     183\n",
      "3     173\n",
      "4     176\n",
      "5     159\n",
      "6     165\n",
      "7     165\n",
      "8     169\n",
      "9     151\n",
      "10    156\n",
      "11    163\n",
      "12    169\n",
      "13    144\n",
      "14    170\n",
      "15    177\n",
      "16    165\n",
      "17    160\n",
      "18    164\n",
      "19    171\n",
      "dtype: int64\n",
      "-----\n",
      "0     169\n",
      "1     170\n",
      "2     162\n",
      "3     154\n",
      "4     183\n",
      "5     173\n",
      "6     169\n",
      "7     167\n",
      "8     170\n",
      "9     185\n",
      "10    162\n",
      "11    175\n",
      "12    168\n",
      "13    151\n",
      "14    181\n",
      "15    170\n",
      "16    182\n",
      "17    156\n",
      "18    159\n",
      "19    160\n",
      "dtype: int64\n"
     ]
    }
   ],
   "source": [
    "## 輸入資料\n",
    "men = pd.Series([164, 175, 183, 173, 176,\n",
    "                159, 165, 165, 169, 151,\n",
    "                156, 163, 169, 144, 170,\n",
    "                177, 165, 160, 164, 171])\n",
    "women = pd.Series([169, 170, 162, 154, 183,\n",
    "                  173, 169, 167, 170, 185,\n",
    "                  162, 175, 168, 151, 181,\n",
    "                  170 ,182, 156, 159, 160])\n",
    "print(men)\n",
    "print(\"-----\")\n",
    "print(women)"
   ]
  },
  {
   "cell_type": "markdown",
   "metadata": {},
   "source": [
    "### 1. 試著用今天所教的內容，如何描述這兩組資料的樣態?"
   ]
  },
  {
   "cell_type": "code",
   "execution_count": 13,
   "metadata": {
    "id": "uDM9AzrY71GW",
    "outputId": "f4e7ede3-fda9-4858-f122-af7c3b3f3ad4"
   },
   "outputs": [
    {
     "name": "stdout",
     "output_type": "stream",
     "text": [
      "count     20.000000\n",
      "mean     165.950000\n",
      "std        9.213691\n",
      "min      144.000000\n",
      "25%      162.250000\n",
      "50%      165.000000\n",
      "75%      171.500000\n",
      "max      183.000000\n",
      "dtype: float64\n",
      "----------\n",
      "count     20.000000\n",
      "mean     168.300000\n",
      "std        9.766215\n",
      "min      151.000000\n",
      "25%      161.500000\n",
      "50%      169.000000\n",
      "75%      173.500000\n",
      "max      185.000000\n",
      "dtype: float64\n"
     ]
    }
   ],
   "source": [
    "print(men.describe())\n",
    "print(\"----------\")\n",
    "print(women.describe())"
   ]
  },
  {
   "cell_type": "markdown",
   "metadata": {},
   "source": [
    "Ans: \n",
    "- 從平均身高的角度來看，女性平均身高大於男性\n",
    "- 以離散程度來看，男女的離散程度是差不多的，但女性還是離散程度還是大於男性"
   ]
  },
  {
   "cell_type": "markdown",
   "metadata": {},
   "source": [
    "### 2. 請問男生和女生在平均身高上誰比較高? "
   ]
  },
  {
   "cell_type": "markdown",
   "metadata": {
    "id": "xH_GNsC271GW",
    "outputId": "f4b4c46a-0d8b-421c-9c70-0ebf2aab0e31"
   },
   "source": [
    "Ans: 女生"
   ]
  },
  {
   "cell_type": "markdown",
   "metadata": {},
   "source": [
    "### 3. 請問第二題的答案和日常生活中觀察的一致嗎? 如果不一致，你覺得原因可能為何? "
   ]
  },
  {
   "cell_type": "markdown",
   "metadata": {
    "id": "xAzZU0Dv71GX",
    "outputId": "e2017c09-70fc-41ab-99c0-9d41fe21629d"
   },
   "source": [
    "Ans: 不一致，原因是樣本數太少，最起碼樣本數也要高於30，才能說符合大樣本性質，也因為樣本數少的關係，有可能取到的資料中剛好存在著離群值，導致說與平常觀察的結果不一樣。"
   ]
  }
 ],
 "metadata": {
  "colab": {
   "collapsed_sections": [],
   "name": "作業.ipynb",
   "provenance": []
  },
  "kernelspec": {
   "display_name": "Python 3",
   "language": "python",
   "name": "python3"
  },
  "language_info": {
   "codemirror_mode": {
    "name": "ipython",
    "version": 3
   },
   "file_extension": ".py",
   "mimetype": "text/x-python",
   "name": "python",
   "nbconvert_exporter": "python",
   "pygments_lexer": "ipython3",
   "version": "3.8.5"
  }
 },
 "nbformat": 4,
 "nbformat_minor": 1
}
