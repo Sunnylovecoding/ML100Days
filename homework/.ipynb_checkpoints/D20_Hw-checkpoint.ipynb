{
 "cells": [
  {
   "cell_type": "markdown",
   "metadata": {},
   "source": [
    "# 作業"
   ]
  },
  {
   "cell_type": "markdown",
   "metadata": {},
   "source": [
    "### 1. 在速度較慢的時候，可以先從哪邊開始檢查？\n",
    "---\n",
    "Ans:\n",
    "1. 讀取的資料型態\n",
    "2. 使用函式時，是否是採用內建函數"
   ]
  },
  {
   "cell_type": "markdown",
   "metadata": {},
   "source": [
    "### 2. 資料過⼤時應採取什麼⽅式讓記憶體占⽤量下降？\n",
    "---\n",
    "Ans: 可以將欄位的型態降級，使得記憶體占用量降低。"
   ]
  }
 ],
 "metadata": {
  "kernelspec": {
   "display_name": "Python 3",
   "language": "python",
   "name": "python3"
  },
  "language_info": {
   "codemirror_mode": {
    "name": "ipython",
    "version": 3
   },
   "file_extension": ".py",
   "mimetype": "text/x-python",
   "name": "python",
   "nbconvert_exporter": "python",
   "pygments_lexer": "ipython3",
   "version": "3.8.5"
  }
 },
 "nbformat": 4,
 "nbformat_minor": 4
}
