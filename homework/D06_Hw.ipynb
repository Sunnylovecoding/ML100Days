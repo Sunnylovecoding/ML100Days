{
 "cells": [
  {
   "cell_type": "markdown",
   "metadata": {
    "id": "jbkK8wprdbdY"
   },
   "source": [
    "## 舊作業"
   ]
  },
  {
   "cell_type": "code",
   "execution_count": 18,
   "metadata": {},
   "outputs": [],
   "source": [
    "import numpy as np"
   ]
  },
  {
   "cell_type": "markdown",
   "metadata": {},
   "source": [
    "### 1. 將下兩列array存成npz檔"
   ]
  },
  {
   "cell_type": "code",
   "execution_count": 54,
   "metadata": {
    "id": "1mZQSUx_fry7"
   },
   "outputs": [],
   "source": [
    "array1 = np.array(range(30))\n",
    "array2 = np.array([2,3,5])\n",
    "\n",
    "with open('D06array.npz', 'wb') as f:\n",
    "    np.savez(f, array1 = array1, array2 = array2)"
   ]
  },
  {
   "cell_type": "markdown",
   "metadata": {},
   "source": [
    "### 2. 讀取剛剛的npz檔，加入下列array一起存成新的npz檔"
   ]
  },
  {
   "cell_type": "code",
   "execution_count": 60,
   "metadata": {
    "id": "Ie1TGcssiIDN"
   },
   "outputs": [
    {
     "data": {
      "text/plain": [
       "['array1', 'array2', 'array3']"
      ]
     },
     "execution_count": 60,
     "metadata": {},
     "output_type": "execute_result"
    }
   ],
   "source": [
    "file = np.load('D06array.npz')\n",
    "np.random.seed(0)\n",
    "array3 = np.random.randint(1, 10, 10)\n",
    "file['array1']\n",
    "with open('D06array.npz', 'wb') as f:\n",
    "    np.savez(f, array1 = file['array1'], array2 = file['array2'], array3 = array3)\n",
    "newfile = np.load('D06array.npz')"
   ]
  },
  {
   "cell_type": "markdown",
   "metadata": {},
   "source": [
    "## 新作業"
   ]
  },
  {
   "cell_type": "markdown",
   "metadata": {},
   "source": [
    "### 1. [簡答題] 請問下列這三種方法有什麼不同？\n",
    "```python\n",
    "print(a.sum()) \n",
    "print(np.sum(a))\n",
    "print(sum(a))\n",
    "```"
   ]
  },
  {
   "cell_type": "code",
   "execution_count": 2,
   "metadata": {},
   "outputs": [
    {
     "name": "stdout",
     "output_type": "stream",
     "text": [
      "6\n",
      "6\n",
      "6\n"
     ]
    }
   ],
   "source": [
    "import numpy as np\n",
    "a = np.arange(4)\n",
    "print(a.sum()) \n",
    "print(np.sum(a))\n",
    "print(sum(a))"
   ]
  },
  {
   "cell_type": "markdown",
   "metadata": {},
   "source": [
    "以結果來說，是沒有不同的;在我的認知下，不同的地方在於，a.sum() 以及 np.sum(a) 是 Numpy 套件內函式，而 sum() 是 python 內建的函式。"
   ]
  },
  {
   "cell_type": "markdown",
   "metadata": {},
   "source": [
    "### 2. 請對一個 5x5 的隨機矩陣作正規化的操作。"
   ]
  },
  {
   "cell_type": "code",
   "execution_count": null,
   "metadata": {},
   "outputs": [],
   "source": [
    "import numpy as np"
   ]
  },
  {
   "cell_type": "code",
   "execution_count": 4,
   "metadata": {},
   "outputs": [
    {
     "data": {
      "text/plain": [
       "0.2576785770527254"
      ]
     },
     "execution_count": 4,
     "metadata": {},
     "output_type": "execute_result"
    }
   ],
   "source": [
    "np.random.seed(6)\n",
    "A = np.random.random((5, 5))\n",
    "\n",
    "np.std(A)"
   ]
  },
  {
   "cell_type": "markdown",
   "metadata": {},
   "source": [
    "### 3. 請建立一個長度等於 10 的正整數向量，並且將其中的最大值改成 -1。"
   ]
  },
  {
   "cell_type": "code",
   "execution_count": 23,
   "metadata": {},
   "outputs": [
    {
     "name": "stdout",
     "output_type": "stream",
     "text": [
      "[11 74 -1 80 81 63 26  2 76 78]\n"
     ]
    }
   ],
   "source": [
    "np.random.seed(6)\n",
    "B = np.array(np.random.randint(1, 100, 10))\n",
    "B[np.argmax(B)] = -1\n",
    "print(B)"
   ]
  }
 ],
 "metadata": {
  "colab": {
   "collapsed_sections": [],
   "name": "作業Hong題目.ipynb",
   "provenance": []
  },
  "kernelspec": {
   "display_name": "Python 3",
   "language": "python",
   "name": "python3"
  },
  "language_info": {
   "codemirror_mode": {
    "name": "ipython",
    "version": 3
   },
   "file_extension": ".py",
   "mimetype": "text/x-python",
   "name": "python",
   "nbconvert_exporter": "python",
   "pygments_lexer": "ipython3",
   "version": "3.8.5"
  }
 },
 "nbformat": 4,
 "nbformat_minor": 1
}
