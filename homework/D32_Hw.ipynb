{
 "cells": [
  {
   "cell_type": "markdown",
   "metadata": {},
   "source": [
    "## 作業:\n",
    "作業目標，讓大家熟悉連續型分配的語法，\n",
    "以及怎麼透過 python 語法進行常態分配的機率運算。\n"
   ]
  },
  {
   "cell_type": "markdown",
   "metadata": {},
   "source": [
    "### Q1:計算標準常態分配，小於1的機率有多大?\n",
    "![](Q1.png)"
   ]
  },
  {
   "cell_type": "code",
   "execution_count": 7,
   "metadata": {
    "colab": {
     "base_uri": "https://localhost:8080/",
     "height": 34
    },
    "colab_type": "code",
    "executionInfo": {
     "elapsed": 1558,
     "status": "ok",
     "timestamp": 1578021044012,
     "user": {
      "displayName": "Mora chen",
      "photoUrl": "https://lh3.googleusercontent.com/a-/AAuE7mB40f7sDArbZ5_DYq02nNcnLD0Ryaf7AhsASSQeLQ=s64",
      "userId": "03171203089166907199"
     },
     "user_tz": -480
    },
    "id": "yz28_IgkYdBW",
    "outputId": "a12f486c-18b3-4fb5-d06c-f162aebd9444"
   },
   "outputs": [],
   "source": [
    "import numpy as np\n",
    "import matplotlib.pyplot as plt\n",
    "from scipy import stats"
   ]
  },
  {
   "cell_type": "code",
   "execution_count": 21,
   "metadata": {},
   "outputs": [
    {
     "name": "stdout",
     "output_type": "stream",
     "text": [
      "在標準常態分配下，小於1的機率為 0.8413\n"
     ]
    }
   ],
   "source": [
    "prob = stats.norm.cdf(1, 0, 1)\n",
    "print(\"在標準常態分配下，小於1的機率為\", prob.round(4))"
   ]
  },
  {
   "cell_type": "markdown",
   "metadata": {},
   "source": [
    "### Q2:計算標準常態分配，大於1，小於 -1 的機率有多大?\n",
    "![](Q2.png)\n"
   ]
  },
  {
   "cell_type": "code",
   "execution_count": 28,
   "metadata": {},
   "outputs": [
    {
     "name": "stdout",
     "output_type": "stream",
     "text": [
      "在標準常態分配下，小於1的機率為 0.3174\n"
     ]
    }
   ],
   "source": [
    "prob2 = stats.norm.cdf(-1, 0, 1)\n",
    "print(\"在標準常態分配下，大於1，小於-1的機率為\", 2*prob2.round(4))"
   ]
  },
  {
   "cell_type": "markdown",
   "metadata": {},
   "source": [
    "### Q3:X~N(2,4),x 服從常態分配，平均數為2,變異數為 4，計算 X小於 6 的機率有多大?"
   ]
  },
  {
   "cell_type": "code",
   "execution_count": 39,
   "metadata": {},
   "outputs": [
    {
     "name": "stdout",
     "output_type": "stream",
     "text": [
      "Ans:  0.9772\n"
     ]
    },
    {
     "data": {
      "image/png": "[encoded data removed]",
      "text/plain": [
       "<Figure size 432x288 with 1 Axes>"
      ]
     },
     "metadata": {
      "needs_background": "light"
     },
     "output_type": "display_data"
    }
   ],
   "source": [
    "## Q3\n",
    "#  提示: 和 Q1,Q2 不同，要先標準化。\n",
    "mu = 2\n",
    "sigma = 2\n",
    "\n",
    "x = np.linspace(stats.norm.ppf(0.01, mu, sigma)-sigma,\n",
    "                stats.norm.ppf(0.99, mu, sigma)+sigma, 500)\n",
    "y = stats.norm.pdf(x, mu, sigma)\n",
    "plt.plot(x, y)\n",
    "\n",
    "prob3 = stats.norm.cdf(6, mu, sigma)\n",
    "print(\"Ans: \", prob3.round(4))"
   ]
  }
 ],
 "metadata": {
  "colab": {
   "name": "Day33.YOLO 細節理解 - 網路輸出的後處理_HW.ipynb",
   "provenance": []
  },
  "kernelspec": {
   "display_name": "Python 3",
   "language": "python",
   "name": "python3"
  },
  "language_info": {
   "codemirror_mode": {
    "name": "ipython",
    "version": 3
   },
   "file_extension": ".py",
   "mimetype": "text/x-python",
   "name": "python",
   "nbconvert_exporter": "python",
   "pygments_lexer": "ipython3",
   "version": "3.8.5"
  }
 },
 "nbformat": 4,
 "nbformat_minor": 1
}
